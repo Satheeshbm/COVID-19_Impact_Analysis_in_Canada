{
 "cells": [
  {
   "cell_type": "code",
   "execution_count": 1,
   "id": "e0d64845-2490-43ff-86bc-6c6f20a885cf",
   "metadata": {},
   "outputs": [],
   "source": [
    "import pandas as pd\n",
    "from pytrends.request import TrendReq\n",
    "from datetime import date\n",
    "pytrend = TrendReq()"
   ]
  },
  {
   "cell_type": "code",
   "execution_count": 2,
   "id": "f81485d4-01f4-4e64-9712-deb85937a8d0",
   "metadata": {},
   "outputs": [],
   "source": [
    "kw_list=['Inflation']"
   ]
  },
  {
   "cell_type": "code",
   "execution_count": 3,
   "id": "3e4dc1c0-8fad-4940-90a7-31258da2dada",
   "metadata": {},
   "outputs": [],
   "source": [
    "locations = {\"Canada\":\"CA\",\n",
    "            \"Alberta\":\"CA-AB\",\n",
    "             \"BC\":\"CA-BC\",\n",
    "             \"Saskatchewan\":\"CA-SK\",\n",
    "             \"Manitoba\":\"CA-MB\",\n",
    "             \"Ontario\":\"CA-ON\",\n",
    "             \"Quebec\":\"CA-QC\",\n",
    "             \"Newfoundland\":\"CA-NL\",\n",
    "             \"Nova Scotia\":\"CA-NS\",\n",
    "             \"New Brunswick\":\"CA-NB\",\n",
    "             \"Prince Edward Island\":\"CA-PE\",\n",
    "             \"Yukon\":\"CA-YT\",\n",
    "             \"Northwest Territories\":\"CA-NT\",\n",
    "             \"Nunavut\":\"NU\"}"
   ]
  },
  {
   "cell_type": "code",
   "execution_count": 4,
   "id": "8a07f25f-29f0-47f7-9cef-86cc9743bea4",
   "metadata": {},
   "outputs": [
    {
     "name": "stdout",
     "output_type": "stream",
     "text": [
      "Canada CA\n",
      "Alberta CA-AB\n",
      "BC CA-BC\n",
      "Saskatchewan CA-SK\n",
      "Manitoba CA-MB\n",
      "Ontario CA-ON\n",
      "Quebec CA-QC\n",
      "Newfoundland CA-NL\n",
      "Nova Scotia CA-NS\n",
      "New Brunswick CA-NB\n",
      "Prince Edward Island CA-PE\n",
      "Yukon CA-YT\n",
      "Northwest Territories CA-NT\n",
      "Nunavut NU\n"
     ]
    }
   ],
   "source": [
    "combined_df = None\n",
    "term = 'Oleksiak'\n",
    "for key, value in locations.items():\n",
    "    print(key,value)\n",
    "    try:\n",
    "        pytrend.build_payload(kw_list= [term],timeframe=f'2019-01-01 {date.today()}', geo=value)\n",
    "        dataframe = pytrend.interest_over_time()\n",
    "        if combined_df is None:\n",
    "            combined_df = dataframe.copy()\n",
    "            combined_df.rename({term:value},axis = 1, inplace = True)\n",
    "        else:\n",
    "            combined_df[key] = dataframe[term]\n",
    "    except:\n",
    "        combined_df[key] = -1"
   ]
  },
  {
   "cell_type": "code",
   "execution_count": 6,
   "id": "74692703-dddf-4de8-a009-cd4f99862204",
   "metadata": {},
   "outputs": [],
   "source": [
    "combined_df.to_csv(term + \".csv\")"
   ]
  },
  {
   "cell_type": "code",
   "execution_count": null,
   "id": "b480d6f8-7302-4acb-8af6-86744029f9e2",
   "metadata": {},
   "outputs": [],
   "source": []
  }
 ],
 "metadata": {
  "kernelspec": {
   "display_name": "Python 3 (ipykernel)",
   "language": "python",
   "name": "python3"
  },
  "language_info": {
   "codemirror_mode": {
    "name": "ipython",
    "version": 3
   },
   "file_extension": ".py",
   "mimetype": "text/x-python",
   "name": "python",
   "nbconvert_exporter": "python",
   "pygments_lexer": "ipython3",
   "version": "3.8.8"
  }
 },
 "nbformat": 4,
 "nbformat_minor": 5
}
