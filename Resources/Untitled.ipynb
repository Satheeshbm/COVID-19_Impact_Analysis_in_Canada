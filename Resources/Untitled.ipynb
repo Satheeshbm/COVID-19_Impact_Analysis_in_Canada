{
 "cells": [
  {
   "cell_type": "code",
   "execution_count": null,
   "id": "612bac53",
   "metadata": {},
   "outputs": [],
   "source": [
    "labour_province.plot()"
   ]
  },
  {
   "cell_type": "code",
   "execution_count": null,
   "id": "27549557",
   "metadata": {},
   "outputs": [],
   "source": [
    "labour_market = labour_df.reset_index()\n",
    "labour_market.head()"
   ]
  },
  {
   "cell_type": "code",
   "execution_count": null,
   "id": "f017e27d",
   "metadata": {},
   "outputs": [],
   "source": [
    "labour_in_province = labour_market[['REF_DATE', 'VALUE', 'GEO']]\n",
    "labour_in_province"
   ]
  },
  {
   "cell_type": "code",
   "execution_count": null,
   "id": "0cc68063",
   "metadata": {},
   "outputs": [],
   "source": [
    "labour_in_province.hvplot(x='GEO', y='VALUE', groupby='REF_DATE')"
   ]
  },
  {
   "cell_type": "code",
   "execution_count": null,
   "id": "52a43a92",
   "metadata": {},
   "outputs": [],
   "source": [
    "labour_ontario = create_bar_chart(labour_province.iloc[1], \"Labour impact in ontario\",\"Province Ontario\",\"Values\",\"red\")"
   ]
  }
 ],
 "metadata": {
  "kernelspec": {
   "display_name": "Python 3 (ipykernel)",
   "language": "python",
   "name": "python3"
  },
  "language_info": {
   "codemirror_mode": {
    "name": "ipython",
    "version": 3
   },
   "file_extension": ".py",
   "mimetype": "text/x-python",
   "name": "python",
   "nbconvert_exporter": "python",
   "pygments_lexer": "ipython3",
   "version": "3.8.8"
  }
 },
 "nbformat": 4,
 "nbformat_minor": 5
}
