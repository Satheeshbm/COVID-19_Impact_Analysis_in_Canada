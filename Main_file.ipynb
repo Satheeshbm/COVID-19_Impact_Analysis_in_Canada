# imports
import panel as pn
pn.extension('plotly')
import pandas as pd
import plotly.express as px
import hvplot.pandas
import matplotlib.pyplot as plt
import os
from pathlib import Path
from dotenv import load_dotenv
load_dotenv()
map_box_api = os.getenv("mapbox")

# Read the 2020 & 2021 data into a Pandas DataFrame
file_path_2020 = Path("2020.csv")
file_path_2021 = Path("2021.csv")
file_path_3 = Path("COVID-19_by_Province.csv")
Mobility_2020_data = pd.read_csv(file_path_2020)
Mobility_2021_data = pd.read_csv(file_path_2021)
Hospitalisation_data = pd.read_csv(file_path_3)
Mobility_data_actual = pd.concat([Mobility_2020_data,Mobility_2021_data])

# Drop columns and save the output in a csv which will be the final database to be used for analysis
Mobility_data_edit_1 = Mobility_data_actual.drop(columns = ['country_region_code','country_region','sub_region_2','metro_area','iso_3166_2_code','census_fips_code','place_id'])
Mobility_data_edit_2 = Mobility_data_edit_1.dropna()
Mobility_data_edit_3 = Mobility_data_edit_2.set_index('date')
Mobility_data_edit_4 = Mobility_data_edit_3.rename(columns = {'sub_region_1':'Province'})
Hospitalisation_data_1 = Hospitalisation_data.rename(columns = {'GEO':'Province'})
Hospitalisation_data_2 = Hospitalisation_data_1.set_index('Date')
Mobility_data_edit_4.to_csv("Mobility_Data_Canada_2020_21.csv")

Mobility_data_edit_4.head()

Hospitalisation_data_2.head(25)
#Mobility_hospitalisation_data

#Mobility_data_edit_4.hvplot(x='date',y='retail_and_recreation_percent_change_from_baseline',groupby='Province',title='Mobility to Parks')

Mob_hosp_data = pd.merge(Mobility_data_edit_4, Hospitalisation_data_2,how = 'left', 
                         left_on=[Mobility_data_edit_4.index,'Province'],
                         right_on=['Date','Province']
                        )

Mob_hosp_data.head(35)

